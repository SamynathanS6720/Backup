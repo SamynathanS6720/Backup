{
 "cells": [
  {
   "cell_type": "code",
   "execution_count": 1,
   "id": "51b42255",
   "metadata": {},
   "outputs": [],
   "source": [
    "import great_expectations as gx\n",
    "from great_expectations.cli.datasource import sanitize_yaml_and_save_datasource, check_if_datasource_name_exists\n",
    "context = gx.get_context()"
   ]
  },
  {
   "cell_type": "code",
   "execution_count": 2,
   "id": "ea50f77e",
   "metadata": {},
   "outputs": [],
   "source": [
    "datasource_name = \"my_datasource\""
   ]
  },
  {
   "cell_type": "code",
   "execution_count": 3,
   "id": "d764786d",
   "metadata": {},
   "outputs": [],
   "source": [
    "host = \"je80020.ap-south-1.aws\"  # The account name (include region -- ex 'ABCD.us-east-1')\n",
    "username = \"SAMYNATHAN\"\n",
    "database = \"SFSALESSHARED_SFC_SAMPLES_AWS_AP_SOUTH_1_SAMPLE_DATA\"  # The database name\n",
    "schema_name = \"TPCH_SF1\"  # The schema name\n",
    "warehouse = \"FIVETRAN_WHAREHOUSE\"  # The warehouse name\n",
    "role = \"FIVETRAN_ROLE\"  # The role name\n",
    "table_name = \"CUSTOMER\"  # A table that you would like to add initially as a Data Asset\n",
    "password = \"Kadit@234\""
   ]
  },
  {
   "cell_type": "code",
   "execution_count": 7,
   "id": "46869d73",
   "metadata": {},
   "outputs": [
    {
     "name": "stdout",
     "output_type": "stream",
     "text": [
      "\n",
      "name: my_datasource\n",
      "class_name: my_datasource\n",
      "execution_engine:\n",
      "  class_name: SqlAlchemyExecutionEngine\n",
      "  credentials:\n",
      "    host: je80020.ap-south-1.aws\n",
      "    username: SAMYNATHAN\n",
      "    database: SFSALESSHARED_SFC_SAMPLES_AWS_AP_SOUTH_1_SAMPLE_DATA\n",
      "    query:\n",
      "      schema: TPCH_SF1\n",
      "      warehouse: FIVETRAN_WHAREHOUSE\n",
      "      role: FIVETRAN_ROLE\n",
      "    password: Kadit@234\n",
      "    drivername: snowflake\n",
      "data_connectors:\n",
      "  default_runtime_data_connector_name:\n",
      "    class_name: RuntimeDataConnector\n",
      "    batch_identifiers:\n",
      "      - default_identifier_name\n",
      "  default_inferred_data_connector_name:\n",
      "    class_name: InferredAssetSqlDataConnector\n",
      "    include_schema_name: True\n",
      "    introspection_directives:\n",
      "      schema_name: TPCH_SF1\n",
      "  default_configured_data_connector_name:\n",
      "    class_name: ConfiguredAssetSqlDataConnector\n",
      "    assets:\n",
      "      CUSTOMER:\n",
      "        class_name: Asset\n",
      "        schema_name: TPCH_SF1\n",
      "\n"
     ]
    }
   ],
   "source": [
    "example_yaml = f\"\"\"\n",
    "name: {datasource_name}\n",
    "class_name: my_datasource\n",
    "execution_engine:\n",
    "  class_name: SqlAlchemyExecutionEngine\n",
    "  credentials:\n",
    "    host: {host}\n",
    "    username: {username}\n",
    "    database: {database}\n",
    "    query:\n",
    "      schema: {schema_name}\n",
    "      warehouse: {warehouse}\n",
    "      role: {role}\n",
    "    password: {password}\n",
    "    drivername: snowflake\n",
    "data_connectors:\n",
    "  default_runtime_data_connector_name:\n",
    "    class_name: RuntimeDataConnector\n",
    "    batch_identifiers:\n",
    "      - default_identifier_name\n",
    "  default_inferred_data_connector_name:\n",
    "    class_name: InferredAssetSqlDataConnector\n",
    "    include_schema_name: True\n",
    "    introspection_directives:\n",
    "      schema_name: {schema_name}\n",
    "  default_configured_data_connector_name:\n",
    "    class_name: ConfiguredAssetSqlDataConnector\n",
    "    assets:\n",
    "      {table_name}:\n",
    "        class_name: Asset\n",
    "        schema_name: {schema_name}\n",
    "\"\"\"\n",
    "print(example_yaml)"
   ]
  },
  {
   "cell_type": "code",
   "execution_count": 10,
   "id": "1090cdfb",
   "metadata": {},
   "outputs": [
    {
     "name": "stdout",
     "output_type": "stream",
     "text": [
      "Attempting to instantiate class from config...\n",
      "\tNo matching class found. Attempting to instantiate class from the raw config...\n"
     ]
    },
    {
     "ename": "KeyError",
     "evalue": "\"Neither config : ordereddict([('name', 'my_datasource'), ('class_name', 'my_datasource'), ('execution_engine', ordereddict([('class_name', 'SqlAlchemyExecutionEngine'), ('credentials', ordereddict([('host', 'je80020.ap-south-1.aws'), ('username', 'SAMYNATHAN'), ('database', 'SFSALESSHARED_SFC_SAMPLES_AWS_AP_SOUTH_1_SAMPLE_DATA'), ('query', ordereddict([('schema', 'TPCH_SF1'), ('warehouse', 'FIVETRAN_WHAREHOUSE'), ('role', 'FIVETRAN_ROLE')])), ('password', 'Kadit@234'), ('drivername', 'snowflake')]))])), ('data_connectors', ordereddict([('default_runtime_data_connector_name', ordereddict([('class_name', 'RuntimeDataConnector'), ('batch_identifiers', ['default_identifier_name'])])), ('default_inferred_data_connector_name', ordereddict([('class_name', 'InferredAssetSqlDataConnector'), ('include_schema_name', True), ('introspection_directives', ordereddict([('schema_name', 'TPCH_SF1')]))])), ('default_configured_data_connector_name', ordereddict([('class_name', 'ConfiguredAssetSqlDataConnector'), ('assets', ordereddict([('CUSTOMER', ordereddict([('class_name', 'Asset'), ('schema_name', 'TPCH_SF1')]))]))]))]))]) nor config_defaults : {} contains a module_name key.\"",
     "output_type": "error",
     "traceback": [
      "\u001b[1;31m---------------------------------------------------------------------------\u001b[0m",
      "\u001b[1;31mKeyError\u001b[0m                                  Traceback (most recent call last)",
      "File \u001b[1;32m~\\Envs\\test\\lib\\site-packages\\great_expectations\\data_context\\util.py:39\u001b[0m, in \u001b[0;36minstantiate_class_from_config\u001b[1;34m(config, runtime_environment, config_defaults)\u001b[0m\n\u001b[0;32m     38\u001b[0m \u001b[38;5;28;01mtry\u001b[39;00m:\n\u001b[1;32m---> 39\u001b[0m     module_name \u001b[38;5;241m=\u001b[39m \u001b[43mconfig_defaults\u001b[49m\u001b[38;5;241;43m.\u001b[39;49m\u001b[43mpop\u001b[49m\u001b[43m(\u001b[49m\u001b[38;5;124;43m\"\u001b[39;49m\u001b[38;5;124;43mmodule_name\u001b[39;49m\u001b[38;5;124;43m\"\u001b[39;49m\u001b[43m)\u001b[49m\n\u001b[0;32m     40\u001b[0m \u001b[38;5;28;01mexcept\u001b[39;00m \u001b[38;5;167;01mKeyError\u001b[39;00m:\n",
      "\u001b[1;31mKeyError\u001b[0m: 'module_name'",
      "\nDuring handling of the above exception, another exception occurred:\n",
      "\u001b[1;31mKeyError\u001b[0m                                  Traceback (most recent call last)",
      "Cell \u001b[1;32mIn[10], line 1\u001b[0m\n\u001b[1;32m----> 1\u001b[0m \u001b[43mcontext\u001b[49m\u001b[38;5;241;43m.\u001b[39;49m\u001b[43mtest_yaml_config\u001b[49m\u001b[43m(\u001b[49m\u001b[43myaml_config\u001b[49m\u001b[38;5;241;43m=\u001b[39;49m\u001b[43mexample_yaml\u001b[49m\u001b[43m)\u001b[49m\n",
      "File \u001b[1;32m~\\Envs\\test\\lib\\site-packages\\great_expectations\\data_context\\data_context\\abstract_data_context.py:3389\u001b[0m, in \u001b[0;36mAbstractDataContext.test_yaml_config\u001b[1;34m(self, yaml_config, name, class_name, runtime_environment, pretty_print, return_mode, shorten_tracebacks)\u001b[0m\n\u001b[0;32m   3352\u001b[0m \u001b[38;5;124;03m\"\"\"Convenience method for testing yaml configs\u001b[39;00m\n\u001b[0;32m   3353\u001b[0m \n\u001b[0;32m   3354\u001b[0m \u001b[38;5;124;03mtest_yaml_config is a convenience method for configuring the moving\u001b[39;00m\n\u001b[1;32m   (...)\u001b[0m\n\u001b[0;32m   3384\u001b[0m \n\u001b[0;32m   3385\u001b[0m \u001b[38;5;124;03m\"\"\"\u001b[39;00m\n\u001b[0;32m   3386\u001b[0m yaml_config_validator \u001b[38;5;241m=\u001b[39m _YamlConfigValidator(\n\u001b[0;32m   3387\u001b[0m     data_context\u001b[38;5;241m=\u001b[39m\u001b[38;5;28mself\u001b[39m,\n\u001b[0;32m   3388\u001b[0m )\n\u001b[1;32m-> 3389\u001b[0m \u001b[38;5;28;01mreturn\u001b[39;00m \u001b[43myaml_config_validator\u001b[49m\u001b[38;5;241;43m.\u001b[39;49m\u001b[43mtest_yaml_config\u001b[49m\u001b[43m(\u001b[49m\n\u001b[0;32m   3390\u001b[0m \u001b[43m    \u001b[49m\u001b[43myaml_config\u001b[49m\u001b[38;5;241;43m=\u001b[39;49m\u001b[43myaml_config\u001b[49m\u001b[43m,\u001b[49m\n\u001b[0;32m   3391\u001b[0m \u001b[43m    \u001b[49m\u001b[43mname\u001b[49m\u001b[38;5;241;43m=\u001b[39;49m\u001b[43mname\u001b[49m\u001b[43m,\u001b[49m\n\u001b[0;32m   3392\u001b[0m \u001b[43m    \u001b[49m\u001b[43mclass_name\u001b[49m\u001b[38;5;241;43m=\u001b[39;49m\u001b[43mclass_name\u001b[49m\u001b[43m,\u001b[49m\n\u001b[0;32m   3393\u001b[0m \u001b[43m    \u001b[49m\u001b[43mruntime_environment\u001b[49m\u001b[38;5;241;43m=\u001b[39;49m\u001b[43mruntime_environment\u001b[49m\u001b[43m,\u001b[49m\n\u001b[0;32m   3394\u001b[0m \u001b[43m    \u001b[49m\u001b[43mpretty_print\u001b[49m\u001b[38;5;241;43m=\u001b[39;49m\u001b[43mpretty_print\u001b[49m\u001b[43m,\u001b[49m\n\u001b[0;32m   3395\u001b[0m \u001b[43m    \u001b[49m\u001b[43mreturn_mode\u001b[49m\u001b[38;5;241;43m=\u001b[39;49m\u001b[43mreturn_mode\u001b[49m\u001b[43m,\u001b[49m\n\u001b[0;32m   3396\u001b[0m \u001b[43m    \u001b[49m\u001b[43mshorten_tracebacks\u001b[49m\u001b[38;5;241;43m=\u001b[39;49m\u001b[43mshorten_tracebacks\u001b[49m\u001b[43m,\u001b[49m\n\u001b[0;32m   3397\u001b[0m \u001b[43m\u001b[49m\u001b[43m)\u001b[49m\n",
      "File \u001b[1;32m~\\Envs\\test\\lib\\site-packages\\great_expectations\\data_context\\config_validator\\yaml_config_validator.py:297\u001b[0m, in \u001b[0;36m_YamlConfigValidator.test_yaml_config\u001b[1;34m(self, yaml_config, name, class_name, runtime_environment, pretty_print, return_mode, shorten_tracebacks)\u001b[0m\n\u001b[0;32m    295\u001b[0m     traceback\u001b[38;5;241m.\u001b[39mprint_exc(limit\u001b[38;5;241m=\u001b[39m\u001b[38;5;241m1\u001b[39m)\n\u001b[0;32m    296\u001b[0m \u001b[38;5;28;01melse\u001b[39;00m:\n\u001b[1;32m--> 297\u001b[0m     \u001b[38;5;28;01mraise\u001b[39;00m e\n",
      "File \u001b[1;32m~\\Envs\\test\\lib\\site-packages\\great_expectations\\data_context\\config_validator\\yaml_config_validator.py:246\u001b[0m, in \u001b[0;36m_YamlConfigValidator.test_yaml_config\u001b[1;34m(self, yaml_config, name, class_name, runtime_environment, pretty_print, return_mode, shorten_tracebacks)\u001b[0m\n\u001b[0;32m    236\u001b[0m     (\n\u001b[0;32m    237\u001b[0m         instantiated_class,\n\u001b[0;32m    238\u001b[0m         usage_stats_event_payload,\n\u001b[0;32m    239\u001b[0m     ) \u001b[38;5;241m=\u001b[39m \u001b[38;5;28mself\u001b[39m\u001b[38;5;241m.\u001b[39m_test_instantiation_of_profiler_from_yaml_config(\n\u001b[0;32m    240\u001b[0m         name\u001b[38;5;241m=\u001b[39mname, class_name\u001b[38;5;241m=\u001b[39mclass_name, config\u001b[38;5;241m=\u001b[39mconfig_with_substitutions\n\u001b[0;32m    241\u001b[0m     )\n\u001b[0;32m    242\u001b[0m \u001b[38;5;28;01melse\u001b[39;00m:\n\u001b[0;32m    243\u001b[0m     (\n\u001b[0;32m    244\u001b[0m         instantiated_class,\n\u001b[0;32m    245\u001b[0m         usage_stats_event_payload,\n\u001b[1;32m--> 246\u001b[0m     ) \u001b[38;5;241m=\u001b[39m \u001b[38;5;28;43mself\u001b[39;49m\u001b[38;5;241;43m.\u001b[39;49m\u001b[43m_test_instantiation_of_misc_class_from_yaml_config\u001b[49m\u001b[43m(\u001b[49m\n\u001b[0;32m    247\u001b[0m \u001b[43m        \u001b[49m\u001b[43mname\u001b[49m\u001b[38;5;241;43m=\u001b[39;49m\u001b[43mname\u001b[49m\u001b[43m,\u001b[49m\n\u001b[0;32m    248\u001b[0m \u001b[43m        \u001b[49m\u001b[43mconfig\u001b[49m\u001b[38;5;241;43m=\u001b[39;49m\u001b[43mconfig_with_substitutions\u001b[49m\u001b[43m,\u001b[49m\n\u001b[0;32m    249\u001b[0m \u001b[43m        \u001b[49m\u001b[43mruntime_environment\u001b[49m\u001b[38;5;241;43m=\u001b[39;49m\u001b[43mruntime_environment\u001b[49m\u001b[43m,\u001b[49m\n\u001b[0;32m    250\u001b[0m \u001b[43m        \u001b[49m\u001b[43musage_stats_event_payload\u001b[49m\u001b[38;5;241;43m=\u001b[39;49m\u001b[43musage_stats_event_payload\u001b[49m\u001b[43m,\u001b[49m\n\u001b[0;32m    251\u001b[0m \u001b[43m    \u001b[49m\u001b[43m)\u001b[49m\n\u001b[0;32m    253\u001b[0m send_usage_message_from_handler(\n\u001b[0;32m    254\u001b[0m     event\u001b[38;5;241m=\u001b[39musage_stats_event_name,\n\u001b[0;32m    255\u001b[0m     handler\u001b[38;5;241m=\u001b[39m\u001b[38;5;28mself\u001b[39m\u001b[38;5;241m.\u001b[39musage_statistics_handler,\n\u001b[0;32m    256\u001b[0m     event_payload\u001b[38;5;241m=\u001b[39musage_stats_event_payload,\n\u001b[0;32m    257\u001b[0m     success\u001b[38;5;241m=\u001b[39m\u001b[38;5;28;01mTrue\u001b[39;00m,\n\u001b[0;32m    258\u001b[0m )\n\u001b[0;32m    259\u001b[0m \u001b[38;5;28;01mif\u001b[39;00m pretty_print:\n",
      "File \u001b[1;32m~\\Envs\\test\\lib\\site-packages\\great_expectations\\data_context\\config_validator\\yaml_config_validator.py:560\u001b[0m, in \u001b[0;36m_YamlConfigValidator._test_instantiation_of_misc_class_from_yaml_config\u001b[1;34m(self, name, config, runtime_environment, usage_stats_event_payload)\u001b[0m\n\u001b[0;32m    552\u001b[0m \u001b[38;5;124;03m\"\"\"\u001b[39;00m\n\u001b[0;32m    553\u001b[0m \u001b[38;5;124;03mCatch-all to cover all classes not covered in other `_test_instantiation` methods.\u001b[39;00m\n\u001b[0;32m    554\u001b[0m \u001b[38;5;124;03mAttempts to match config to the relevant class/parent and update usage stats payload.\u001b[39;00m\n\u001b[0;32m    555\u001b[0m \u001b[38;5;124;03mSee `test_yaml_config` for more details.\u001b[39;00m\n\u001b[0;32m    556\u001b[0m \u001b[38;5;124;03m\"\"\"\u001b[39;00m\n\u001b[0;32m    557\u001b[0m \u001b[38;5;28mprint\u001b[39m(\n\u001b[0;32m    558\u001b[0m     \u001b[38;5;124m\"\u001b[39m\u001b[38;5;130;01m\\t\u001b[39;00m\u001b[38;5;124mNo matching class found. Attempting to instantiate class from the raw config...\u001b[39m\u001b[38;5;124m\"\u001b[39m\n\u001b[0;32m    559\u001b[0m )\n\u001b[1;32m--> 560\u001b[0m instantiated_class \u001b[38;5;241m=\u001b[39m \u001b[43minstantiate_class_from_config\u001b[49m\u001b[43m(\u001b[49m\n\u001b[0;32m    561\u001b[0m \u001b[43m    \u001b[49m\u001b[43mconfig\u001b[49m\u001b[38;5;241;43m=\u001b[39;49m\u001b[43mconfig\u001b[49m\u001b[43m,\u001b[49m\n\u001b[0;32m    562\u001b[0m \u001b[43m    \u001b[49m\u001b[43mruntime_environment\u001b[49m\u001b[38;5;241;43m=\u001b[39;49m\u001b[43m{\u001b[49m\n\u001b[0;32m    563\u001b[0m \u001b[43m        \u001b[49m\u001b[38;5;241;43m*\u001b[39;49m\u001b[38;5;241;43m*\u001b[39;49m\u001b[43mruntime_environment\u001b[49m\u001b[43m,\u001b[49m\n\u001b[0;32m    564\u001b[0m \u001b[43m        \u001b[49m\u001b[38;5;241;43m*\u001b[39;49m\u001b[38;5;241;43m*\u001b[39;49m\u001b[43m{\u001b[49m\n\u001b[0;32m    565\u001b[0m \u001b[43m            \u001b[49m\u001b[38;5;124;43m\"\u001b[39;49m\u001b[38;5;124;43mroot_directory\u001b[39;49m\u001b[38;5;124;43m\"\u001b[39;49m\u001b[43m:\u001b[49m\u001b[43m \u001b[49m\u001b[38;5;28;43mself\u001b[39;49m\u001b[38;5;241;43m.\u001b[39;49m\u001b[43m_data_context\u001b[49m\u001b[38;5;241;43m.\u001b[39;49m\u001b[43mroot_directory\u001b[49m\u001b[43m,\u001b[49m\n\u001b[0;32m    566\u001b[0m \u001b[43m        \u001b[49m\u001b[43m}\u001b[49m\u001b[43m,\u001b[49m\n\u001b[0;32m    567\u001b[0m \u001b[43m    \u001b[49m\u001b[43m}\u001b[49m\u001b[43m,\u001b[49m\n\u001b[0;32m    568\u001b[0m \u001b[43m    \u001b[49m\u001b[43mconfig_defaults\u001b[49m\u001b[38;5;241;43m=\u001b[39;49m\u001b[43m{\u001b[49m\u001b[43m}\u001b[49m\u001b[43m,\u001b[49m\n\u001b[0;32m    569\u001b[0m \u001b[43m\u001b[49m\u001b[43m)\u001b[49m\n\u001b[0;32m    571\u001b[0m \u001b[38;5;66;03m# If a subclass of a supported type, find the parent class and anonymize\u001b[39;00m\n\u001b[0;32m    572\u001b[0m anonymizer \u001b[38;5;241m=\u001b[39m Anonymizer(\u001b[38;5;28mself\u001b[39m\u001b[38;5;241m.\u001b[39m_data_context\u001b[38;5;241m.\u001b[39mdata_context_id)\n",
      "File \u001b[1;32m~\\Envs\\test\\lib\\site-packages\\great_expectations\\data_context\\util.py:41\u001b[0m, in \u001b[0;36minstantiate_class_from_config\u001b[1;34m(config, runtime_environment, config_defaults)\u001b[0m\n\u001b[0;32m     39\u001b[0m         module_name \u001b[38;5;241m=\u001b[39m config_defaults\u001b[38;5;241m.\u001b[39mpop(\u001b[38;5;124m\"\u001b[39m\u001b[38;5;124mmodule_name\u001b[39m\u001b[38;5;124m\"\u001b[39m)\n\u001b[0;32m     40\u001b[0m     \u001b[38;5;28;01mexcept\u001b[39;00m \u001b[38;5;167;01mKeyError\u001b[39;00m:\n\u001b[1;32m---> 41\u001b[0m         \u001b[38;5;28;01mraise\u001b[39;00m \u001b[38;5;167;01mKeyError\u001b[39;00m(\n\u001b[0;32m     42\u001b[0m             \u001b[38;5;124m\"\u001b[39m\u001b[38;5;124mNeither config : \u001b[39m\u001b[38;5;132;01m{}\u001b[39;00m\u001b[38;5;124m nor config_defaults : \u001b[39m\u001b[38;5;132;01m{}\u001b[39;00m\u001b[38;5;124m contains a module_name key.\u001b[39m\u001b[38;5;124m\"\u001b[39m\u001b[38;5;241m.\u001b[39mformat(\n\u001b[0;32m     43\u001b[0m                 config,\n\u001b[0;32m     44\u001b[0m                 config_defaults,\n\u001b[0;32m     45\u001b[0m             )\n\u001b[0;32m     46\u001b[0m         )\n\u001b[0;32m     47\u001b[0m \u001b[38;5;28;01melse\u001b[39;00m:\n\u001b[0;32m     48\u001b[0m     \u001b[38;5;66;03m# Pop the value without using it, to avoid sending an unwanted value to the config_class\u001b[39;00m\n\u001b[0;32m     49\u001b[0m     config_defaults\u001b[38;5;241m.\u001b[39mpop(\u001b[38;5;124m\"\u001b[39m\u001b[38;5;124mmodule_name\u001b[39m\u001b[38;5;124m\"\u001b[39m, \u001b[38;5;28;01mNone\u001b[39;00m)\n",
      "\u001b[1;31mKeyError\u001b[0m: \"Neither config : ordereddict([('name', 'my_datasource'), ('class_name', 'my_datasource'), ('execution_engine', ordereddict([('class_name', 'SqlAlchemyExecutionEngine'), ('credentials', ordereddict([('host', 'je80020.ap-south-1.aws'), ('username', 'SAMYNATHAN'), ('database', 'SFSALESSHARED_SFC_SAMPLES_AWS_AP_SOUTH_1_SAMPLE_DATA'), ('query', ordereddict([('schema', 'TPCH_SF1'), ('warehouse', 'FIVETRAN_WHAREHOUSE'), ('role', 'FIVETRAN_ROLE')])), ('password', 'Kadit@234'), ('drivername', 'snowflake')]))])), ('data_connectors', ordereddict([('default_runtime_data_connector_name', ordereddict([('class_name', 'RuntimeDataConnector'), ('batch_identifiers', ['default_identifier_name'])])), ('default_inferred_data_connector_name', ordereddict([('class_name', 'InferredAssetSqlDataConnector'), ('include_schema_name', True), ('introspection_directives', ordereddict([('schema_name', 'TPCH_SF1')]))])), ('default_configured_data_connector_name', ordereddict([('class_name', 'ConfiguredAssetSqlDataConnector'), ('assets', ordereddict([('CUSTOMER', ordereddict([('class_name', 'Asset'), ('schema_name', 'TPCH_SF1')]))]))]))]))]) nor config_defaults : {} contains a module_name key.\""
     ]
    }
   ],
   "source": [
    "context.test_yaml_config(yaml_config=example_yaml)"
   ]
  },
  {
   "cell_type": "code",
   "execution_count": null,
   "id": "9d93bb63",
   "metadata": {},
   "outputs": [],
   "source": []
  }
 ],
 "metadata": {
  "kernelspec": {
   "display_name": "Python 3 (ipykernel)",
   "language": "python",
   "name": "python3"
  },
  "language_info": {
   "codemirror_mode": {
    "name": "ipython",
    "version": 3
   },
   "file_extension": ".py",
   "mimetype": "text/x-python",
   "name": "python",
   "nbconvert_exporter": "python",
   "pygments_lexer": "ipython3",
   "version": "3.10.9"
  }
 },
 "nbformat": 4,
 "nbformat_minor": 5
}
